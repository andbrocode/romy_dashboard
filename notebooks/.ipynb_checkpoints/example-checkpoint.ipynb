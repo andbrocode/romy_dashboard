{
 "cells": [
  {
   "cell_type": "code",
   "execution_count": null,
   "id": "c13bfd23",
   "metadata": {},
   "outputs": [],
   "source": []
  },
  {
   "cell_type": "markdown",
   "id": "e78e3ab5",
   "metadata": {},
   "source": [
    "## Imports"
   ]
  },
  {
   "cell_type": "code",
   "execution_count": 1,
   "id": "fbcc2bd8",
   "metadata": {},
   "outputs": [],
   "source": [
    "# Add directory above current directory to path\n",
    "import sys; sys.path.insert(0, '..')"
   ]
  },
  {
   "cell_type": "code",
   "execution_count": 14,
   "id": "cd50c933",
   "metadata": {},
   "outputs": [],
   "source": [
    "#!/usr/bin/python3\n",
    "\n",
    "# Pandas for data management\n",
    "import pandas as pd\n",
    "import obspy as obs\n",
    "\n",
    "# os methods for manipulating paths\n",
    "from os.path import dirname, join\n",
    "\n",
    "# Bokeh basics \n",
    "from bokeh.io import curdoc\n",
    "from bokeh.models.layouts import TabPanel, Tabs\n",
    "\n",
    "import folium\n",
    "\n",
    "from obspy import UTCDateTime\n",
    "from numpy import array\n",
    "\n",
    "\n",
    "\n",
    "# Each tab is drawn by one script\n",
    "from tabs.tab_map import __tab_map\n",
    "\n",
    "\n",
    "# Using included state data from Bokeh for map\n",
    "from bokeh.sampledata.us_states import data as states"
   ]
  },
  {
   "cell_type": "markdown",
   "id": "a8b98468",
   "metadata": {},
   "source": [
    "## Load Data"
   ]
  },
  {
   "cell_type": "code",
   "execution_count": 15,
   "id": "b04f9d0d",
   "metadata": {},
   "outputs": [],
   "source": [
    "# Read data into dataframes\n",
    "# flights = pd.read_csv(join(dirname(__file__), 'data', 'flights.csv'), index_col=0).dropna()\n",
    "\n",
    "# Formatted Flight Delay Data for map\n",
    "# map_data = pd.read_csv(join(dirname(__file__), 'data', 'flights_map.csv'), header=[0,1], index_col=0)"
   ]
  },
  {
   "cell_type": "code",
   "execution_count": 16,
   "id": "a6b6d408",
   "metadata": {},
   "outputs": [],
   "source": [
    "st = obs.read(\"../data/ROMY_BJZ_2023-01-31.mseed\")"
   ]
  },
  {
   "cell_type": "markdown",
   "id": "0d19d255",
   "metadata": {},
   "source": [
    "## Configurations"
   ]
  },
  {
   "cell_type": "code",
   "execution_count": 17,
   "id": "eed99c36",
   "metadata": {},
   "outputs": [],
   "source": [
    "config = {}\n",
    "\n",
    "config['minlatitude'] = 32.444\n",
    "config['maxlatitude'] = 34.8286\n",
    "config['minlongitude'] = -118.652\n",
    "config['maxlongitude'] = -114.941\n",
    "\n",
    "config['BSPF_lon'] = array([-116.455439])\n",
    "config['BSPF_lat'] = array([33.610643])\n",
    "\n",
    "config['minmagnitude'] = 2.5\n",
    "\n",
    "config['tbeg'] = UTCDateTime(\"2022-10-01\")\n",
    "config['tend'] = UTCDateTime(\"2023-01-13\")\n",
    "\n"
   ]
  },
  {
   "cell_type": "markdown",
   "id": "f3f43061",
   "metadata": {},
   "source": [
    "## Tabs"
   ]
  },
  {
   "cell_type": "code",
   "execution_count": 20,
   "id": "2b34cdad",
   "metadata": {},
   "outputs": [],
   "source": [
    "# Create each of the tabs\n",
    "tab1 = __tab_map(config)\n",
    "# tab2 = density_tab(flights)\n",
    "# tab3 = table_tab(flights)\n",
    "# tab4 = map_tab(map_data, states)\n",
    "# tab5 = route_tb(flights)\n",
    "\n",
    "# Put all the tabs into one application\n",
    "tabs = Tabs(tabs = [tab1, tab1])\n",
    "\n",
    "# Put the tabs in the current document for display\n",
    "curdoc().add_root(tabs)\n",
    "\n",
    "## END OF FILE"
   ]
  },
  {
   "cell_type": "code",
   "execution_count": 19,
   "id": "5605ec0a",
   "metadata": {},
   "outputs": [
    {
     "data": {
      "text/html": [
       "<div style=\"display: table;\"><div style=\"display: table-row;\"><div style=\"display: table-cell;\"><b title=\"bokeh.models.layouts.TabPanel\">TabPanel</b>(</div><div style=\"display: table-cell;\">id&nbsp;=&nbsp;'p1894', <span id=\"p1896\" style=\"cursor: pointer;\">&hellip;)</span></div></div><div class=\"p1895\" style=\"display: none;\"><div style=\"display: table-cell;\"></div><div style=\"display: table-cell;\">child&nbsp;=&nbsp;figure(id='p1848', ...),</div></div><div class=\"p1895\" style=\"display: none;\"><div style=\"display: table-cell;\"></div><div style=\"display: table-cell;\">closable&nbsp;=&nbsp;False,</div></div><div class=\"p1895\" style=\"display: none;\"><div style=\"display: table-cell;\"></div><div style=\"display: table-cell;\">disabled&nbsp;=&nbsp;False,</div></div><div class=\"p1895\" style=\"display: none;\"><div style=\"display: table-cell;\"></div><div style=\"display: table-cell;\">js_event_callbacks&nbsp;=&nbsp;{},</div></div><div class=\"p1895\" style=\"display: none;\"><div style=\"display: table-cell;\"></div><div style=\"display: table-cell;\">js_property_callbacks&nbsp;=&nbsp;{},</div></div><div class=\"p1895\" style=\"display: none;\"><div style=\"display: table-cell;\"></div><div style=\"display: table-cell;\">name&nbsp;=&nbsp;None,</div></div><div class=\"p1895\" style=\"display: none;\"><div style=\"display: table-cell;\"></div><div style=\"display: table-cell;\">subscribed_events&nbsp;=&nbsp;PropertyValueSet(),</div></div><div class=\"p1895\" style=\"display: none;\"><div style=\"display: table-cell;\"></div><div style=\"display: table-cell;\">syncable&nbsp;=&nbsp;True,</div></div><div class=\"p1895\" style=\"display: none;\"><div style=\"display: table-cell;\"></div><div style=\"display: table-cell;\">tags&nbsp;=&nbsp;[],</div></div><div class=\"p1895\" style=\"display: none;\"><div style=\"display: table-cell;\"></div><div style=\"display: table-cell;\">title&nbsp;=&nbsp;'Seismicity Map')</div></div></div>\n",
       "<script>\n",
       "(function() {\n",
       "  let expanded = false;\n",
       "  const ellipsis = document.getElementById(\"p1896\");\n",
       "  ellipsis.addEventListener(\"click\", function() {\n",
       "    const rows = document.getElementsByClassName(\"p1895\");\n",
       "    for (let i = 0; i < rows.length; i++) {\n",
       "      const el = rows[i];\n",
       "      el.style.display = expanded ? \"none\" : \"table-row\";\n",
       "    }\n",
       "    ellipsis.innerHTML = expanded ? \"&hellip;)\" : \"&lsaquo;&lsaquo;&lsaquo;\";\n",
       "    expanded = !expanded;\n",
       "  });\n",
       "})();\n",
       "</script>\n"
      ],
      "text/plain": [
       "TabPanel(id='p1894', ...)"
      ]
     },
     "execution_count": 19,
     "metadata": {},
     "output_type": "execute_result"
    }
   ],
   "source": [
    "__tab_map(config)"
   ]
  },
  {
   "cell_type": "code",
   "execution_count": 37,
   "id": "8c7bc4c7",
   "metadata": {},
   "outputs": [
    {
     "name": "stderr",
     "output_type": "stream",
     "text": [
      "BokehDeprecationWarning: get_provider was deprecated in Bokeh 3.0.0 and will be removed, use add_tile directly instead.\n"
     ]
    }
   ],
   "source": [
    "from obspy import UTCDateTime\n",
    "from numpy import array\n",
    "from bokeh.models import TabPanel\n",
    "from bokeh.plotting import figure, show\n",
    "from bokeh.plotting import figure, output_file, show\n",
    "from bokeh.tile_providers import CARTODBPOSITRON, get_provider\n",
    "\n",
    "\n",
    "\n",
    "\n",
    "def __makeplot():\n",
    "\n",
    "    p = figure(width=300, height=300)\n",
    "\n",
    "    tile_provider = get_provider(CARTODBPOSITRON)\n",
    "\n",
    "    # range bounds supplied in web mercator coordinates\n",
    "    p = figure(y_range=(config['minlatitude']*1e5, config['maxlatitude']*1e5), \n",
    "               x_range=(config['minlongitude']*1e5, config['maxlongitude']*1e5),\n",
    "               x_axis_type=\"mercator\", y_axis_type=\"mercator\")\n",
    "    p.add_tile(tile_provider)\n",
    "\n",
    "    return p\n",
    "\n",
    "p = __makeplot()\n",
    "\n",
    "show(p)"
   ]
  },
  {
   "cell_type": "code",
   "execution_count": 50,
   "id": "1ec5311c",
   "metadata": {},
   "outputs": [],
   "source": [
    "def __makeplot(st, component=\"Z\"):\n",
    "    \n",
    "    tr = st.select(channel=f\"*{component}\")[0]\n",
    "    title = f\"{tr.stats.network}.{tr.stats.station}.{tr.stats.location}.{tr.stats.channel}\"\n",
    "    \n",
    "    p = figure(width=1000, height=200, title=title)\n",
    "    \n",
    "    p.line(tr.times(), tr.data , line_width=2)\n",
    "\n",
    "    \n",
    "    return p\n",
    "\n",
    "p = __makeplot(st, component=\"Z\")\n",
    "\n",
    "show(p)"
   ]
  },
  {
   "cell_type": "code",
   "execution_count": 49,
   "id": "178f6943",
   "metadata": {},
   "outputs": [
    {
     "data": {
      "text/plain": [
       "         network: BW\n",
       "         station: ROMY\n",
       "        location: 10\n",
       "         channel: BJZ\n",
       "       starttime: 2023-01-30T23:59:59.990200Z\n",
       "         endtime: 2023-01-31T23:59:59.990200Z\n",
       "   sampling_rate: 20.0\n",
       "           delta: 0.05\n",
       "            npts: 1728001\n",
       "           calib: 1.0\n",
       "         _format: MSEED\n",
       "           mseed: AttribDict({'dataquality': 'D', 'number_of_records': 16050, 'encoding': 'STEIM2', 'byteorder': '>', 'record_length': 512, 'filesize': 8217600})"
      ]
     },
     "execution_count": 49,
     "metadata": {},
     "output_type": "execute_result"
    }
   ],
   "source": [
    "\n"
   ]
  },
  {
   "cell_type": "code",
   "execution_count": null,
   "id": "2bcbbce0",
   "metadata": {},
   "outputs": [],
   "source": []
  }
 ],
 "metadata": {
  "kernelspec": {
   "display_name": "Python 3 (ipykernel)",
   "language": "python",
   "name": "python3"
  },
  "language_info": {
   "codemirror_mode": {
    "name": "ipython",
    "version": 3
   },
   "file_extension": ".py",
   "mimetype": "text/x-python",
   "name": "python",
   "nbconvert_exporter": "python",
   "pygments_lexer": "ipython3",
   "version": "3.11.0"
  },
  "latex_envs": {
   "LaTeX_envs_menu_present": true,
   "autoclose": true,
   "autocomplete": true,
   "bibliofile": "biblio.bib",
   "cite_by": "apalike",
   "current_citInitial": 1,
   "eqLabelWithNumbers": true,
   "eqNumInitial": 1,
   "hotkeys": {
    "equation": "Ctrl-E",
    "itemize": "Ctrl-I"
   },
   "labels_anchors": false,
   "latex_user_defs": false,
   "report_style_numbering": false,
   "user_envs_cfg": false
  },
  "toc": {
   "base_numbering": 1,
   "nav_menu": {},
   "number_sections": true,
   "sideBar": true,
   "skip_h1_title": false,
   "title_cell": "Table of Contents",
   "title_sidebar": "Contents",
   "toc_cell": false,
   "toc_position": {},
   "toc_section_display": true,
   "toc_window_display": false
  }
 },
 "nbformat": 4,
 "nbformat_minor": 5
}
